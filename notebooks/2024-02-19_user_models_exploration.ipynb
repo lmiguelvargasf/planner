{
 "cells": [
  {
   "cell_type": "code",
   "execution_count": null,
   "id": "0",
   "metadata": {},
   "outputs": [],
   "source": [
    "# Instantiate User\n",
    "# Important: User inherits from BaseModel which inherits from SQLModel.\n",
    "# User also sets table as True which means three wil be an SQL table\n",
    "# associated with this model.\n",
    "\n",
    "from rich import print\n",
    "from planner.users.models import User\n",
    "\n",
    "# Since User inherits from BaseModel and table is set as True, when\n",
    "# creating a User instance, no validation will be performed.\n",
    "user = User()\n",
    "print(user)"
   ]
  },
  {
   "cell_type": "code",
   "execution_count": null,
   "id": "1",
   "metadata": {},
   "outputs": [],
   "source": [
    "# User validation (invalid User)\n",
    "from pydantic import ValidationError\n",
    "\n",
    "# In order to validate a User instance, call the class method\n",
    "# .model_validate(). In the following example, an exception,\n",
    "# ValidationError, will be raised since the instance `user`\n",
    "# is not valid according the User model.\n",
    "\n",
    "user = User()\n",
    "try:\n",
    "    User.model_validate(user)\n",
    "except ValidationError as exc:\n",
    "    print(exc)"
   ]
  },
  {
   "cell_type": "code",
   "execution_count": null,
   "id": "2",
   "metadata": {},
   "outputs": [],
   "source": [
    "# User validation (valid User)\n",
    "\n",
    "# user is a valid User instance, so an instance of User\n",
    "# with the same data as user is returned after validation.\n",
    "\n",
    "user = User(email='user@example.com')\n",
    "db_user = User.model_validate(user)\n",
    "print(db_user)"
   ]
  },
  {
   "cell_type": "code",
   "execution_count": null,
   "id": "3",
   "metadata": {},
   "outputs": [],
   "source": [
    "# Instantiate UserCreate and UserUpdate models\n",
    "# Important: both classes inherit from SQLModel directly, and\n",
    "# for both classes table is set as False (default).\n",
    "\n",
    "from planner.users.models import UserCreate, UserUpdate\n",
    "from pydantic import ValidationError\n",
    "\n",
    "# When table is set to False, and because SQLModel inherits\n",
    "# directly from pydantic's `BaseModel`, data will be validated\n",
    "# before creating an instance. If data is valid, User will\n",
    "# be instantiated. Otherwise, a pydantic's ValidationError\n",
    "# will be raised.\n",
    "\n",
    "\n",
    "# valid instances\n",
    "created_user = UserCreate(email='user@example.com')\n",
    "print(created_user)\n",
    "updated_user = UserUpdate()\n",
    "print(updated_user)\n",
    "\n",
    "\n",
    "# invalid instances\n",
    "print('Trying to instantiate an invalid UserCreate object:')\n",
    "try:\n",
    "    UserCreate()\n",
    "except ValidationError as exc:\n",
    "    print(exc)\n",
    "print()\n",
    "print('Trying to instantiate an invalid UserUpdate object:')\n",
    "try:\n",
    "    UserUpdate(email='nah', sex='123')\n",
    "except ValidationError as exc:\n",
    "    print(exc)"
   ]
  },
  {
   "cell_type": "code",
   "execution_count": null,
   "id": "4",
   "metadata": {},
   "outputs": [],
   "source": [
    "# pydantic.BaseModel.model_dump\n",
    "# This method generates a dictionary representation of the model.\n",
    "# The parameter exclude_unset indicates whether to exclude fields that\n",
    "# have not been explicitly set. Its default value is False.\n",
    "\n",
    "from rich import print\n",
    "from planner.users.models import UserUpdate\n",
    "\n",
    "user = UserUpdate(first_name='John')\n",
    "print(user)\n",
    "print('`exclude_unset` is `False` (default)')\n",
    "print(user.model_dump())\n",
    "print('`exclude_unset` is `True`')\n",
    "print(user.model_dump(exclude_unset=True))"
   ]
  },
  {
   "cell_type": "code",
   "execution_count": null,
   "id": "5",
   "metadata": {},
   "outputs": [],
   "source": []
  }
 ],
 "metadata": {
  "kernelspec": {
   "display_name": "Python 3 (ipykernel)",
   "language": "python",
   "name": "python3"
  },
  "language_info": {
   "codemirror_mode": {
    "name": "ipython",
    "version": 3
   },
   "file_extension": ".py",
   "mimetype": "text/x-python",
   "name": "python",
   "nbconvert_exporter": "python",
   "pygments_lexer": "ipython3",
   "version": "3.12.2"
  }
 },
 "nbformat": 4,
 "nbformat_minor": 5
}
