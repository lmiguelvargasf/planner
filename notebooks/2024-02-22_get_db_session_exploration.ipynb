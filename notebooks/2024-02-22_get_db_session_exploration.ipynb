{
 "cells": [
  {
   "cell_type": "code",
   "execution_count": null,
   "id": "0",
   "metadata": {},
   "outputs": [],
   "source": [
    "from planner.users.models import User\n",
    "from rich import print\n",
    "\n",
    "user = User(email='user@example.com')\n",
    "db_user = User.model_validate(user)\n",
    "print(user)"
   ]
  },
  {
   "cell_type": "code",
   "execution_count": null,
   "id": "1",
   "metadata": {},
   "outputs": [],
   "source": [
    "# Create\n",
    "from planner.database import get_db_session\n",
    "\n",
    "async with get_db_session() as session:\n",
    "    session.add(db_user)\n",
    "    await session.commit()"
   ]
  },
  {
   "cell_type": "code",
   "execution_count": null,
   "id": "2",
   "metadata": {},
   "outputs": [],
   "source": [
    "# Read\n",
    "from sqlmodel import select\n",
    "from planner.database import get_db_session\n",
    "\n",
    "async with get_db_session() as session:\n",
    "    query = select(User).where(User.uuid == db_user.uuid)\n",
    "    result = await session.execute(query)\n",
    "    db_user = result.scalar_one_or_none()\n",
    "\n",
    "print(db_user)"
   ]
  },
  {
   "cell_type": "code",
   "execution_count": null,
   "id": "3",
   "metadata": {},
   "outputs": [],
   "source": [
    "# Update\n",
    "from sqlmodel import update\n",
    "from planner.database import get_db_session\n",
    "\n",
    "db_user.first_name = 'Joe'\n",
    "\n",
    "async with get_db_session() as session:\n",
    "    query = update(User).where(User.uuid == db_user.uuid).values(db_user.model_dump())\n",
    "    await session.execute(query)\n",
    "    await session.commit()\n",
    "\n",
    "print(db_user)"
   ]
  },
  {
   "cell_type": "code",
   "execution_count": null,
   "id": "4",
   "metadata": {},
   "outputs": [],
   "source": [
    "# Delete\n",
    "from sqlmodel import delete\n",
    "from planner.database import get_db_session\n",
    "\n",
    "async with get_db_session() as session:\n",
    "    query = delete(User).where(User.uuid == db_user.uuid)\n",
    "    await session.execute(query)\n",
    "    await session.commit()"
   ]
  },
  {
   "cell_type": "code",
   "execution_count": null,
   "id": "5",
   "metadata": {},
   "outputs": [],
   "source": [
    "# AsyncSession.get\n",
    "from planner.database import get_db_session\n",
    "\n",
    "async with get_db_session() as session:\n",
    "    db_user = await session.get(User, db_user.uuid)\n",
    "\n",
    "print(db_user)"
   ]
  },
  {
   "cell_type": "code",
   "execution_count": null,
   "id": "6",
   "metadata": {},
   "outputs": [],
   "source": []
  }
 ],
 "metadata": {
  "kernelspec": {
   "display_name": "Python 3 (ipykernel)",
   "language": "python",
   "name": "python3"
  },
  "language_info": {
   "codemirror_mode": {
    "name": "ipython",
    "version": 3
   },
   "file_extension": ".py",
   "mimetype": "text/x-python",
   "name": "python",
   "nbconvert_exporter": "python",
   "pygments_lexer": "ipython3",
   "version": "3.12.2"
  }
 },
 "nbformat": 4,
 "nbformat_minor": 5
}
