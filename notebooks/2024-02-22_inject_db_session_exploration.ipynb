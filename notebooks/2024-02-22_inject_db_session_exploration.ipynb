{
 "cells": [
  {
   "cell_type": "code",
   "execution_count": null,
   "id": "0",
   "metadata": {},
   "outputs": [],
   "source": [
    "from planner.users.models import User\n",
    "\n",
    "user = User(email='user@example.com')\n",
    "db_user = User.model_validate(user)"
   ]
  },
  {
   "cell_type": "code",
   "execution_count": null,
   "id": "1",
   "metadata": {},
   "outputs": [],
   "source": [
    "from planner.database import inject_db_session\n",
    "gen = inject_db_session()\n",
    "try:\n",
    "    session = await anext(gen)\n",
    "    session.add(db_user)\n",
    "    await session.commit()  # Correctly awaiting the commit operation\n",
    "finally:\n",
    "    await gen.aclose()  # Ensures the session is properly closed"
   ]
  },
  {
   "cell_type": "code",
   "execution_count": null,
   "id": "2",
   "metadata": {},
   "outputs": [],
   "source": []
  }
 ],
 "metadata": {
  "kernelspec": {
   "display_name": "Python 3 (ipykernel)",
   "language": "python",
   "name": "python3"
  },
  "language_info": {
   "codemirror_mode": {
    "name": "ipython",
    "version": 3
   },
   "file_extension": ".py",
   "mimetype": "text/x-python",
   "name": "python",
   "nbconvert_exporter": "python",
   "pygments_lexer": "ipython3",
   "version": "3.12.2"
  }
 },
 "nbformat": 4,
 "nbformat_minor": 5
}
