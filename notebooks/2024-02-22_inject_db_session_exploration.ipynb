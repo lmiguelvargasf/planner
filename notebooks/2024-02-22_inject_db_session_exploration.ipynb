{
 "cells": [
  {
   "cell_type": "code",
   "execution_count": null,
   "id": "0",
   "metadata": {},
   "outputs": [],
   "source": [
    "from planner.users.models import User\n",
    "\n",
    "user = User(email='user@example.com')\n",
    "db_user = User.model_validate(user)"
   ]
  },
  {
   "cell_type": "code",
   "execution_count": null,
   "id": "1",
   "metadata": {},
   "outputs": [],
   "source": [
    "# Creation\n",
    "from planner.database import inject_db_session\n",
    "gen = inject_db_session()\n",
    "try:\n",
    "    session = await anext(gen)\n",
    "    session.add(db_user)\n",
    "    await session.commit()  # Correctly awaiting the commit operation\n",
    "finally:\n",
    "    await gen.aclose()  # Ensures the session is properly closed"
   ]
  },
  {
   "cell_type": "code",
   "execution_count": null,
   "id": "2",
   "metadata": {},
   "outputs": [],
   "source": [
    "# Read\n",
    "from sqlmodel import select\n",
    "\n",
    "\n",
    "gen = inject_db_session()\n",
    "\n",
    "try:\n",
    "    session = await anext(gen)\n",
    "    query = select(User).where(User.uuid == db_user.uuid)\n",
    "    result = await session.execute(query)\n",
    "    db_user = result.scalars().first()\n",
    "finally:\n",
    "    await gen.aclose()\n",
    "\n",
    "db_user"
   ]
  },
  {
   "cell_type": "code",
   "execution_count": null,
   "id": "3",
   "metadata": {},
   "outputs": [],
   "source": [
    "# Update\n",
    "from sqlmodel import update\n",
    "\n",
    "gen = inject_db_session()\n",
    "\n",
    "try:\n",
    "    session = await anext(gen)\n",
    "    query = select(User).where(User.uuid == db_user.uuid)\n",
    "    result = await session.execute(query)\n",
    "    db_user: User = result.scalars().first()\n",
    "\n",
    "    db_user.first_name = 'Joe'\n",
    "    query = update(User).where(User.uuid == db_user.uuid).values(db_user.model_dump())\n",
    "    await session.execute(query)\n",
    "    await session.commit()\n",
    "finally:\n",
    "    await gen.aclose()"
   ]
  },
  {
   "cell_type": "code",
   "execution_count": null,
   "id": "4",
   "metadata": {},
   "outputs": [],
   "source": [
    "# Delete\n",
    "from sqlmodel import delete\n",
    "\n",
    "gen = inject_db_session()\n",
    "\n",
    "try:\n",
    "    session = await anext(gen)\n",
    "    query = delete(User).where(User.uuid == db_user.uuid)\n",
    "    await session.execute(query)\n",
    "    await session.commit()\n",
    "finally:\n",
    "    await gen.aclose()"
   ]
  },
  {
   "cell_type": "code",
   "execution_count": null,
   "id": "5",
   "metadata": {},
   "outputs": [],
   "source": []
  }
 ],
 "metadata": {
  "kernelspec": {
   "display_name": "Python 3 (ipykernel)",
   "language": "python",
   "name": "python3"
  },
  "language_info": {
   "codemirror_mode": {
    "name": "ipython",
    "version": 3
   },
   "file_extension": ".py",
   "mimetype": "text/x-python",
   "name": "python",
   "nbconvert_exporter": "python",
   "pygments_lexer": "ipython3",
   "version": "3.12.2"
  }
 },
 "nbformat": 4,
 "nbformat_minor": 5
}
