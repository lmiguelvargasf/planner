{
 "cells": [
  {
   "cell_type": "code",
   "execution_count": null,
   "id": "0",
   "metadata": {},
   "outputs": [],
   "source": [
    "from rich import print\n",
    "from planner.users.models import User\n",
    "from planner.users.managers import UserManager\n",
    "from planner.database import get_db_session\n",
    "\n",
    "user = User(email='user@example.com')\n",
    "\n",
    "async with get_db_session() as session:\n",
    "    manager = UserManager(session)\n",
    "    db_user = User.model_validate(user)\n",
    "    db_user = await manager.create(db_user)"
   ]
  },
  {
   "cell_type": "code",
   "execution_count": null,
   "id": "1",
   "metadata": {},
   "outputs": [],
   "source": [
    "from uuid import UUID\n",
    "from rich import print\n",
    "from planner.users.models import User\n",
    "from planner.users.managers import UserManager\n",
    "from planner.database import get_db_session\n",
    "\n",
    "\n",
    "uuid = UUID('615bfaf8-88fb-44c7-a944-5aec3283b655')\n",
    "\n",
    "async with get_db_session() as session:\n",
    "    manager = UserManager(session)\n",
    "    db_user = await manager.get_by_uuid(uuid=uuid)\n",
    "\n",
    "print(db_user)"
   ]
  },
  {
   "cell_type": "code",
   "execution_count": null,
   "id": "2",
   "metadata": {},
   "outputs": [],
   "source": []
  }
 ],
 "metadata": {
  "kernelspec": {
   "display_name": "Python 3 (ipykernel)",
   "language": "python",
   "name": "python3"
  },
  "language_info": {
   "codemirror_mode": {
    "name": "ipython",
    "version": 3
   },
   "file_extension": ".py",
   "mimetype": "text/x-python",
   "name": "python",
   "nbconvert_exporter": "python",
   "pygments_lexer": "ipython3",
   "version": "3.12.2"
  }
 },
 "nbformat": 4,
 "nbformat_minor": 5
}
