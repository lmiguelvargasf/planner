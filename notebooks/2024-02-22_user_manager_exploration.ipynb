{
 "cells": [
  {
   "cell_type": "code",
   "execution_count": null,
   "id": "0",
   "metadata": {},
   "outputs": [],
   "source": [
    "# Create\n",
    "from rich import print\n",
    "from planner.users.models import User, UserCreate\n",
    "from planner.users.managers import UserManager\n",
    "from planner.database import get_db_session\n",
    "\n",
    "user = UserCreate(email='user@example.com')\n",
    "print(user)\n",
    "\n",
    "async with get_db_session() as session:\n",
    "    manager = UserManager(session)\n",
    "    validated_user = User.model_validate(user)\n",
    "    db_user = await manager.create(validated_user)\n",
    "print(db_user)"
   ]
  },
  {
   "cell_type": "code",
   "execution_count": null,
   "id": "1",
   "metadata": {},
   "outputs": [],
   "source": [
    "# Read by uuid\n",
    "from uuid import UUID\n",
    "from rich import print\n",
    "from planner.users.models import User\n",
    "from planner.users.managers import UserManager\n",
    "from planner.database import get_db_session\n",
    "\n",
    "\n",
    "uuid = db_user.uuid\n",
    "\n",
    "async with get_db_session() as session:\n",
    "    manager = UserManager(session)\n",
    "    db_user = await manager.get_by_uuid(uuid=uuid)\n",
    "\n",
    "print(db_user)"
   ]
  },
  {
   "cell_type": "code",
   "execution_count": null,
   "id": "2",
   "metadata": {},
   "outputs": [],
   "source": [
    "# Read by email\n",
    "from rich import print\n",
    "from planner.users.managers import UserManager\n",
    "from planner.database import get_db_session\n",
    "\n",
    "email = 'user@example.com'\n",
    "\n",
    "async with get_db_session() as session:\n",
    "    manager = UserManager(session)\n",
    "    db_user = await manager.get_by_email(email=email)\n",
    "\n",
    "print(db_user)"
   ]
  },
  {
   "cell_type": "code",
   "execution_count": null,
   "id": "3",
   "metadata": {},
   "outputs": [],
   "source": [
    "# Update\n",
    "from rich import print\n",
    "from planner.users.models import UserUpdate\n",
    "from planner.database import get_db_session\n",
    "from uuid import UUID\n",
    "\n",
    "\n",
    "from planner.users.models import User\n",
    "from planner.users.managers import UserManager\n",
    "\n",
    "\n",
    "async with get_db_session() as session:\n",
    "    manager = UserManager(session)\n",
    "    user = UserUpdate(first_name='James', last_name='Watson')\n",
    "    db_user = await manager.patch(uuid=uuid, user=user)\n",
    "\n",
    "print(db_user)"
   ]
  },
  {
   "cell_type": "code",
   "execution_count": null,
   "id": "4",
   "metadata": {},
   "outputs": [],
   "source": [
    "# Delete\n",
    "from rich import print\n",
    "from planner.database import get_db_session\n",
    "from uuid import UUID\n",
    "\n",
    "from planner.users.models import User\n",
    "from planner.users.managers import UserManager\n",
    "\n",
    "async with get_db_session() as session:\n",
    "    manager = UserManager(session)\n",
    "    await manager.delete(uuid=uuid)"
   ]
  },
  {
   "cell_type": "code",
   "execution_count": null,
   "id": "5",
   "metadata": {},
   "outputs": [],
   "source": []
  }
 ],
 "metadata": {
  "kernelspec": {
   "display_name": "Python 3 (ipykernel)",
   "language": "python",
   "name": "python3"
  },
  "language_info": {
   "codemirror_mode": {
    "name": "ipython",
    "version": 3
   },
   "file_extension": ".py",
   "mimetype": "text/x-python",
   "name": "python",
   "nbconvert_exporter": "python",
   "pygments_lexer": "ipython3",
   "version": "3.12.2"
  }
 },
 "nbformat": 4,
 "nbformat_minor": 5
}
